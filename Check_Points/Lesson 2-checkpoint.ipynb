{
 "cells": [
  {
   "cell_type": "code",
   "execution_count": 2,
   "metadata": {},
   "outputs": [],
   "source": [
    "# Import Libraries\n",
    "\n",
    "import pandas as pd\n",
    "import matplotlib.pyplot as plt\n",
    "import numpy.random as np\n",
    "import sys\n",
    "import matplotlib\n",
    "\n",
    "%matplotlib inline"
   ]
  },
  {
   "cell_type": "code",
   "execution_count": 5,
   "metadata": {},
   "outputs": [
    {
     "name": "stdout",
     "output_type": "stream",
     "text": [
      "Python Version 3.7.4 (default, Aug  9 2019, 18:34:13) [MSC v.1915 64 bit (AMD64)]\n",
      "Pandas Version 0.25.1\n",
      "matplotlib Version 3.1.1\n"
     ]
    }
   ],
   "source": [
    "print(\"Python Version \" + sys.version)\n",
    "print(\"Pandas Version \" + pd.__version__)\n",
    "print(\"matplotlib Version \" + matplotlib.__version__)"
   ]
  },
  {
   "cell_type": "code",
   "execution_count": 6,
   "metadata": {},
   "outputs": [],
   "source": [
    "# Set Seed\n",
    "\n",
    "np.seed(111)\n",
    "\n",
    "def CreateDataset (Number = 1):\n",
    "    Output = []\n",
    "    \n",
    "    for i in range(Number):\n",
    "        # Create a weekly (Modays) date range\n",
    "        rng = pd.date_range(start='1-1-1999', end='31-12-2012', freq='W-MON')\n",
    "        \n",
    "        # Create Random Data\n",
    "        data = np.randint(low = 25, high = 1000, size = len(rng))\n",
    "        \n",
    "        # Status Pool\n",
    "        status = [1,2,3]\n",
    "        \n",
    "        # Make a Random list of Statuses\n",
    "        random_status = [status[np.randint(low = 0, high = len(status))] for i in range(len(rng))]\n",
    "        \n",
    "        # State Pool\n",
    "        states = [\"GA\", \"FL\", \"fl\", \"NY\", \"NJ\", \"TX\"]\n",
    "        \n",
    "        # Make a random list of states\n",
    "        random_states = [states[np.randint(low = 0, high = len(states))] for i in range(len(rng))]\n",
    "        \n",
    "        Output.extend(zip(random_states, random_status, data, rng))\n",
    "    \n",
    "    return Output"
   ]
  },
  {
   "cell_type": "code",
   "execution_count": 9,
   "metadata": {},
   "outputs": [
    {
     "name": "stdout",
     "output_type": "stream",
     "text": [
      "<class 'pandas.core.frame.DataFrame'>\n",
      "RangeIndex: 2924 entries, 0 to 2923\n",
      "Data columns (total 4 columns):\n",
      "States           2924 non-null object\n",
      "Status           2924 non-null int64\n",
      "CustomerCount    2924 non-null int64\n",
      "StatusDate       2924 non-null datetime64[ns]\n",
      "dtypes: datetime64[ns](1), int64(2), object(1)\n",
      "memory usage: 91.5+ KB\n"
     ]
    }
   ],
   "source": [
    "dataset = CreateDataset(4)\n",
    "df = pd.DataFrame(data=dataset, columns = [\"States\", \"Status\", \"CustomerCount\", \"StatusDate\"])\n",
    "df.info()"
   ]
  },
  {
   "cell_type": "code",
   "execution_count": 10,
   "metadata": {},
   "outputs": [
    {
     "data": {
      "text/html": [
       "<div>\n",
       "<style scoped>\n",
       "    .dataframe tbody tr th:only-of-type {\n",
       "        vertical-align: middle;\n",
       "    }\n",
       "\n",
       "    .dataframe tbody tr th {\n",
       "        vertical-align: top;\n",
       "    }\n",
       "\n",
       "    .dataframe thead th {\n",
       "        text-align: right;\n",
       "    }\n",
       "</style>\n",
       "<table border=\"1\" class=\"dataframe\">\n",
       "  <thead>\n",
       "    <tr style=\"text-align: right;\">\n",
       "      <th></th>\n",
       "      <th>States</th>\n",
       "      <th>Status</th>\n",
       "      <th>CustomerCount</th>\n",
       "      <th>StatusDate</th>\n",
       "    </tr>\n",
       "  </thead>\n",
       "  <tbody>\n",
       "    <tr>\n",
       "      <td>0</td>\n",
       "      <td>FL</td>\n",
       "      <td>2</td>\n",
       "      <td>53</td>\n",
       "      <td>1999-01-04</td>\n",
       "    </tr>\n",
       "    <tr>\n",
       "      <td>1</td>\n",
       "      <td>fl</td>\n",
       "      <td>2</td>\n",
       "      <td>299</td>\n",
       "      <td>1999-01-11</td>\n",
       "    </tr>\n",
       "    <tr>\n",
       "      <td>2</td>\n",
       "      <td>NJ</td>\n",
       "      <td>1</td>\n",
       "      <td>255</td>\n",
       "      <td>1999-01-18</td>\n",
       "    </tr>\n",
       "    <tr>\n",
       "      <td>3</td>\n",
       "      <td>NJ</td>\n",
       "      <td>1</td>\n",
       "      <td>490</td>\n",
       "      <td>1999-01-25</td>\n",
       "    </tr>\n",
       "    <tr>\n",
       "      <td>4</td>\n",
       "      <td>GA</td>\n",
       "      <td>3</td>\n",
       "      <td>448</td>\n",
       "      <td>1999-02-01</td>\n",
       "    </tr>\n",
       "  </tbody>\n",
       "</table>\n",
       "</div>"
      ],
      "text/plain": [
       "  States  Status  CustomerCount StatusDate\n",
       "0     FL       2             53 1999-01-04\n",
       "1     fl       2            299 1999-01-11\n",
       "2     NJ       1            255 1999-01-18\n",
       "3     NJ       1            490 1999-01-25\n",
       "4     GA       3            448 1999-02-01"
      ]
     },
     "execution_count": 10,
     "metadata": {},
     "output_type": "execute_result"
    }
   ],
   "source": [
    "df.head()"
   ]
  },
  {
   "cell_type": "code",
   "execution_count": 11,
   "metadata": {},
   "outputs": [
    {
     "name": "stdout",
     "output_type": "stream",
     "text": [
      "Done\n"
     ]
    }
   ],
   "source": [
    "# Save Results to Excel\n",
    "\n",
    "df.to_excel(\"Lesson 2.xlsx\", index=False)\n",
    "print(\"Done\")"
   ]
  },
  {
   "cell_type": "markdown",
   "metadata": {},
   "source": [
    "# Grab Data from Excel"
   ]
  },
  {
   "cell_type": "code",
   "execution_count": 13,
   "metadata": {},
   "outputs": [
    {
     "data": {
      "text/plain": [
       "States           object\n",
       "Status            int64\n",
       "CustomerCount     int64\n",
       "dtype: object"
      ]
     },
     "execution_count": 13,
     "metadata": {},
     "output_type": "execute_result"
    }
   ],
   "source": [
    "# Save Location of the File\n",
    "\n",
    "Location = r\"C:\\Users\\Neerav\\Hiren Jupyter\\Lesson 2.xlsx\"\n",
    "\n",
    "df = pd.read_excel(Location, 0, index_col=\"StatusDate\")\n",
    "df.dtypes"
   ]
  },
  {
   "cell_type": "code",
   "execution_count": 14,
   "metadata": {},
   "outputs": [
    {
     "data": {
      "text/plain": [
       "DatetimeIndex(['1999-01-04', '1999-01-11', '1999-01-18', '1999-01-25',\n",
       "               '1999-02-01', '1999-02-08', '1999-02-15', '1999-02-22',\n",
       "               '1999-03-01', '1999-03-08',\n",
       "               ...\n",
       "               '2012-10-29', '2012-11-05', '2012-11-12', '2012-11-19',\n",
       "               '2012-11-26', '2012-12-03', '2012-12-10', '2012-12-17',\n",
       "               '2012-12-24', '2012-12-31'],\n",
       "              dtype='datetime64[ns]', name='StatusDate', length=2924, freq=None)"
      ]
     },
     "execution_count": 14,
     "metadata": {},
     "output_type": "execute_result"
    }
   ],
   "source": [
    "df.index"
   ]
  },
  {
   "cell_type": "code",
   "execution_count": 15,
   "metadata": {},
   "outputs": [
    {
     "data": {
      "text/html": [
       "<div>\n",
       "<style scoped>\n",
       "    .dataframe tbody tr th:only-of-type {\n",
       "        vertical-align: middle;\n",
       "    }\n",
       "\n",
       "    .dataframe tbody tr th {\n",
       "        vertical-align: top;\n",
       "    }\n",
       "\n",
       "    .dataframe thead th {\n",
       "        text-align: right;\n",
       "    }\n",
       "</style>\n",
       "<table border=\"1\" class=\"dataframe\">\n",
       "  <thead>\n",
       "    <tr style=\"text-align: right;\">\n",
       "      <th></th>\n",
       "      <th>States</th>\n",
       "      <th>Status</th>\n",
       "      <th>CustomerCount</th>\n",
       "    </tr>\n",
       "    <tr>\n",
       "      <th>StatusDate</th>\n",
       "      <th></th>\n",
       "      <th></th>\n",
       "      <th></th>\n",
       "    </tr>\n",
       "  </thead>\n",
       "  <tbody>\n",
       "    <tr>\n",
       "      <td>1999-01-04</td>\n",
       "      <td>FL</td>\n",
       "      <td>2</td>\n",
       "      <td>53</td>\n",
       "    </tr>\n",
       "    <tr>\n",
       "      <td>1999-01-11</td>\n",
       "      <td>fl</td>\n",
       "      <td>2</td>\n",
       "      <td>299</td>\n",
       "    </tr>\n",
       "    <tr>\n",
       "      <td>1999-01-18</td>\n",
       "      <td>NJ</td>\n",
       "      <td>1</td>\n",
       "      <td>255</td>\n",
       "    </tr>\n",
       "    <tr>\n",
       "      <td>1999-01-25</td>\n",
       "      <td>NJ</td>\n",
       "      <td>1</td>\n",
       "      <td>490</td>\n",
       "    </tr>\n",
       "    <tr>\n",
       "      <td>1999-02-01</td>\n",
       "      <td>GA</td>\n",
       "      <td>3</td>\n",
       "      <td>448</td>\n",
       "    </tr>\n",
       "  </tbody>\n",
       "</table>\n",
       "</div>"
      ],
      "text/plain": [
       "           States  Status  CustomerCount\n",
       "StatusDate                              \n",
       "1999-01-04     FL       2             53\n",
       "1999-01-11     fl       2            299\n",
       "1999-01-18     NJ       1            255\n",
       "1999-01-25     NJ       1            490\n",
       "1999-02-01     GA       3            448"
      ]
     },
     "execution_count": 15,
     "metadata": {},
     "output_type": "execute_result"
    }
   ],
   "source": [
    "df.head()"
   ]
  }
 ],
 "metadata": {
  "kernelspec": {
   "display_name": "Python 3",
   "language": "python",
   "name": "python3"
  },
  "language_info": {
   "codemirror_mode": {
    "name": "ipython",
    "version": 3
   },
   "file_extension": ".py",
   "mimetype": "text/x-python",
   "name": "python",
   "nbconvert_exporter": "python",
   "pygments_lexer": "ipython3",
   "version": "3.7.4"
  }
 },
 "nbformat": 4,
 "nbformat_minor": 2
}
